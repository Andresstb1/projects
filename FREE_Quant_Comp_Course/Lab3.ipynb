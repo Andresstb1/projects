{
 "cells": [
  {
   "cell_type": "markdown",
   "id": "fe59de83-6dd1-4f1c-afed-7f93c16b5d24",
   "metadata": {},
   "source": [
    "# **Laboratorio 3: Puertas de múltiples qubits y entrelazamiento**  \n",
    "\n",
    "### **Introducción**  \n",
    "\n",
    "Bienvenido al **Laboratorio 3** del curso **Computación Cuántica con Qiskit y JupyterLab**. Hasta ahora, hemos explorado los fundamentos de la computación cuántica, comprendiendo la representación de un **qubit** y la aplicación de **puertas cuánticas de un solo qubit**.  \n",
    "\n",
    "En este laboratorio, **expandiremos nuestro conocimiento a sistemas con múltiples qubits**, explorando cómo interactúan entre sí y cómo se pueden generar **estados entrelazados**, una característica clave que diferencia la computación cuántica de la computación clásica.  \n",
    "\n",
    "A lo largo de este laboratorio, aprenderemos:  \n",
    "✅ Cómo describir sistemas de **varios qubits** utilizando el **espacio de Hilbert** y el **producto tensorial**.  \n",
    "✅ Cómo implementar **puertas de múltiples qubits**, incluyendo la **puerta CNOT**, que permite crear correlaciones cuánticas.  \n",
    "✅ Cómo generar **estados entrelazados**, como los **estados de Bell**, que son fundamentales en algoritmos cuánticos y protocolos como la **teleportación cuántica**.  \n",
    "✅ Cómo analizar y visualizar la **interferencia cuántica y correlaciones** en circuitos con múltiples qubits.  \n",
    "\n",
    "---\n",
    "\n",
    "### 🔹 **Dos conceptos clave: Superposición y Entrelazamiento**  \n",
    "\n",
    "1️⃣ **Superposición cuántica en sistemas de múltiples qubits**  \n",
    "   - Con **$n$ qubits**, podemos representar **$2^n$ estados al mismo tiempo**.  \n",
    "   - Esto permite **almacenar y procesar información de manera exponencialmente más eficiente** que en la computación clásica.  \n",
    "\n",
    "2️⃣ **Entrelazamiento cuántico**  \n",
    "   - Un fenómeno en el cual **dos o más qubits se correlacionan de manera no clásica**, sin importar la distancia que los separa.  \n",
    "   - Si medimos un qubit de un sistema **entrelazado**, automáticamente conocemos el estado del otro, incluso si se encuentra en otra galaxia. 🚀🌌  \n",
    "\n",
    "Estas propiedades son esenciales para el funcionamiento de **algoritmos cuánticos avanzados**, la **teleportación cuántica**, la **corrección de errores cuánticos** y muchas más aplicaciones.  \n",
    "\n",
    "---\n",
    "\n",
    "## **Estructura del Laboratorio 3**  \n",
    "\n",
    "### **1. Estados de múltiples qubits**  \n",
    "- ¿Cómo representamos sistemas con más de un qubit?  \n",
    "- Introducción al **espacio de Hilbert** y el **producto tensorial**, que nos permite combinar estados individuales en sistemas más grandes.  \n",
    "\n",
    "### **2. Puertas de múltiples qubits**  \n",
    "- **Puerta CNOT (Controlled-NOT):**  \n",
    "  - Fundamental para la creación de entrelazamiento.  \n",
    "  - Se usa en algoritmos cuánticos para **controlar un qubit en función del estado de otro**.  \n",
    "- Otras puertas importantes: **CX, CY, CZ y SWAP**.  \n",
    "\n",
    "### **3. Creación y análisis de estados entrelazados**  \n",
    "- Generación de **estados de Bell**:  \n",
    "  - **$|\\Phi^+\\rangle = \\frac{1}{\\sqrt{2}}(|00\\rangle + |11\\rangle)$**  \n",
    "  - **$|\\Psi^+\\rangle = \\frac{1}{\\sqrt{2}}(|01\\rangle + |10\\rangle)$**    \n",
    "\n",
    "### **4. Concepto de fase en qubits y su aplicación en interferencia**  \n",
    "- ¿Cómo afectan las **rotaciones de fase** a qubits entrelazados?  \n",
    "- Cómo la fase influye en la **interferencia cuántica** y en la probabilidad de medición.  "
   ]
  },
  {
   "cell_type": "markdown",
   "id": "a17cf62c-debc-4e69-b42b-cf2304076649",
   "metadata": {},
   "source": [
    "# **1. Estados de múltiples qubits**  \n",
    "\n",
    "En este apartado, exploraremos cómo representar sistemas con **más de un qubit** y cómo se combinan sus estados usando **el espacio de Hilbert y el producto tensorial**.  \n",
    "\n",
    "---\n",
    "\n",
    "## **1.1 Representación de múltiples qubits**  \n",
    "\n",
    "Cuando trabajamos con **un solo qubit**, su estado puede expresarse como una combinación lineal de los estados base **$|0\\rangle$** y **$|1\\rangle$**, es decir:  \n",
    "\n",
    "$$\n",
    "|\\psi\\rangle = \\alpha |0\\rangle + \\beta |1\\rangle\n",
    "$$  \n",
    "\n",
    "donde **$\\alpha$ y $\\beta$** son números complejos que representan las **amplitudes de probabilidad**, con la condición de normalización:  \n",
    "\n",
    "$$\n",
    "|\\alpha|^2 + |\\beta|^2 = 1\n",
    "$$  \n",
    "\n",
    "Sin embargo, cuando trabajamos con **múltiples qubits**, la representación de sus estados sigue las mismas reglas, pero en un **espacio de Hilbert de mayor dimensión**.\n",
    "\n",
    "---\n",
    "\n",
    "## **1.2 Espacio de Hilbert para múltiples qubits**  \n",
    "\n",
    "Un sistema de **$n$ qubits** se representa en un **espacio de Hilbert de dimensión $2^n$**. Esto significa que:  \n",
    "\n",
    "- **1 qubit** → Se representa en un espacio de **dimensión $2^1 = 2$**.  \n",
    "- **2 qubits** → Se representan en un espacio de **dimensión $2^2 = 4$**.  \n",
    "- **3 qubits** → Se representan en un espacio de **dimensión $2^3 = 8$**.  \n",
    "\n",
    "Cada nuevo qubit **duplica la cantidad de estados posibles**, lo que permite a la computación cuántica manejar **exponencialmente más información** que la computación clásica.\n",
    "\n",
    "---\n",
    "\n",
    "## **1.3 Producto tensorial y combinación de estados**  \n",
    "\n",
    "Para describir el estado de un sistema con **varios qubits**, utilizamos el **producto tensorial**.  \n",
    "\n",
    "🔹 **Ejemplo: Dos qubits en estado base**  \n",
    "\n",
    "Si tenemos **dos qubits**, cada uno en un estado básico, su estado total se obtiene mediante el **producto tensorial** de sus vectores:\n",
    "\n",
    "- **Qubit 1 en $|0\\rangle$**:  \n",
    "  $$\n",
    "  |0\\rangle = \\begin{bmatrix} 1 \\\\ 0 \\end{bmatrix}\n",
    "  $$\n",
    "- **Qubit 2 en $|1\\rangle$**:  \n",
    "  $$\n",
    "  |1\\rangle = \\begin{bmatrix} 0 \\\\ 1 \\end{bmatrix}\n",
    "  $$\n",
    "\n",
    "El estado combinado **$|0\\rangle \\otimes |1\\rangle$** es:\n",
    "\n",
    "$$\n",
    "|01\\rangle = |0\\rangle \\otimes |1\\rangle =\n",
    "\\begin{bmatrix} 1 \\\\ 0 \\end{bmatrix}\n",
    "\\otimes\n",
    "\\begin{bmatrix} 0 \\\\ 1 \\end{bmatrix}\n",
    "=\n",
    "\\begin{bmatrix} 1 \\cdot 0 \\\\ 1 \\cdot 1 \\\\ 0 \\cdot 0 \\\\ 0 \\cdot 1 \\end{bmatrix}\n",
    "=\n",
    "\\begin{bmatrix} 0 \\\\ 1 \\\\ 0 \\\\ 0 \\end{bmatrix}\n",
    "$$  \n",
    "\n",
    "Este vector de **dimensión 4** representa el estado **$|01\\rangle$**, donde los coeficientes indican las probabilidades de cada combinación de estados.  \n",
    "\n",
    "---\n",
    "\n",
    "### **1.4 Estados combinados en sistemas de dos qubits**  \n",
    "\n",
    "Un sistema de **dos qubits** puede estar en **cualquier superposición de los 4 estados base**:\n",
    "\n",
    "$$\n",
    "|\\psi\\rangle = \\alpha_{00} |00\\rangle + \\alpha_{01} |01\\rangle + \\alpha_{10} |10\\rangle + \\alpha_{11} |11\\rangle\n",
    "$$\n",
    "\n",
    "con la restricción:\n",
    "\n",
    "$$\n",
    "|\\alpha_{00}|^2 + |\\alpha_{01}|^2 + |\\alpha_{10}|^2 + |\\alpha_{11}|^2 = 1\n",
    "$$\n",
    "\n",
    "Esto significa que, **antes de la medición**, el sistema puede estar en una combinación de los **cuatro estados posibles**.  \n",
    "\n",
    "---\n",
    "\n",
    "### **1.5 Expansión a tres qubits**  \n",
    "\n",
    "Para **tres qubits**, seguimos la misma lógica:  \n",
    "\n",
    "- Hay **$2^3 = 8$ estados base**:  \n",
    "\n",
    "  $$\n",
    "  |000\\rangle, |001\\rangle, |010\\rangle, |011\\rangle, |100\\rangle, |101\\rangle, |110\\rangle, |111\\rangle\n",
    "  $$\n",
    "\n",
    "- El estado general de tres qubits es:\n",
    "\n",
    "  $$\n",
    "  |\\psi\\rangle = \\alpha_{000} |000\\rangle + \\alpha_{001} |001\\rangle + \\alpha_{010} |010\\rangle + \\dots + \\alpha_{111} |111\\rangle\n",
    "  $$\n",
    "\n",
    "  con la condición de normalización:\n",
    "\n",
    "  $$\n",
    "  \\sum_{i=0}^{7} |\\alpha_i|^2 = 1\n",
    "  $$\n",
    "\n",
    "🔹 **Conclusión**:  \n",
    "Cada qubit adicional **duplica** la cantidad de estados base, lo que permite **codificar y procesar información exponencialmente más grande**.\n",
    "\n",
    "---\n",
    "\n",
    "### **1.6 Diferencia entre estados separables y estados entrelazados**  \n",
    "\n",
    "En un sistema de múltiples qubits, existen dos tipos de estados:  \n",
    "\n",
    "1️⃣ **Estados separables**:  \n",
    "   - Son aquellos que pueden expresarse como el **producto tensorial** de estados individuales.  \n",
    "   - Ejemplo:  \n",
    "     $$\n",
    "     |\\psi\\rangle = (|0\\rangle + |1\\rangle) \\otimes |0\\rangle\n",
    "     $$\n",
    "   - No presentan **correlaciones cuánticas especiales**.  \n",
    "\n",
    "2️⃣ **Estados entrelazados**:  \n",
    "   - No pueden escribirse como el **producto tensorial** de estados individuales.  \n",
    "   - Ejemplo:  \n",
    "     $$\n",
    "     |\\Phi^+\\rangle = \\frac{1}{\\sqrt{2}}(|00\\rangle + |11\\rangle)\n",
    "     $$\n",
    "   - Si medimos un qubit, automáticamente sabemos el estado del otro, **sin importar la distancia** entre ellos.  \n",
    "\n",
    "El **entrelazamiento cuántico** es una de las propiedades más iml entrelazamiento cuántico** es clave en la computación cuántica y nos permite crear correlaciones entre qubits.  \n",
    "\n",
    "---\n",
    "\n",
    "📌 **Siguiente paso:**  \n",
    "Ahora que entendemos cómo representar múltiples qubits, exploraremos **las puertas cuánticas de múltiples qubits**, comenzando con la **puerta CNOT** y otras puertas fundamentales. 🚀"
   ]
  },
  {
   "cell_type": "code",
   "execution_count": 133,
   "id": "e3a1290b-f672-400a-a9bd-3629d9f3303f",
   "metadata": {},
   "outputs": [],
   "source": [
    "# Importar librerías necesarias\n",
    "from qiskit.circuit import QuantumCircuit\n",
    "from qiskit_aer import Aer\n",
    "from qiskit import transpile\n",
    "from qiskit.visualization import plot_histogram\n",
    "\n",
    "# Simulador cuántico\n",
    "simulator = Aer.get_backend('aer_simulator')\n",
    "\n",
    "# Definir una función para crear y ejecutar circuitos con distintas puertas de múltiples qubits\n",
    "def ejecutar_circuito(qc, nombre_puerta):\n",
    "    \"\"\"\n",
    "    Función que transpila, ejecuta un circuito y muestra sus resultados.\n",
    "    \"\"\"\n",
    "    print(f\"\\n➤ Circuito con {nombre_puerta}\")\n",
    "    display(qc.draw('mpl'))  # Mostrar el diagrama del circuito\n",
    "\n",
    "    # Agregar medición a todos los qubits\n",
    "    qc.measure_all()\n",
    "\n",
    "    # Transpilar y ejecutar el circuito en el simulador\n",
    "    transpiled_qc = transpile(qc, simulator)\n",
    "    job = simulator.run(transpiled_qc, shots=1024)\n",
    "\n",
    "    # Obtener resultados y mostrar histograma\n",
    "    result = job.result()\n",
    "    counts = result.get_counts(qc)\n",
    "\n",
    "    print(f\"Resultados de medición para {nombre_puerta}:\")\n",
    "    display(plot_histogram(counts))"
   ]
  },
  {
   "cell_type": "markdown",
   "id": "3c702292-32aa-4f31-9b8f-b0861cf10966",
   "metadata": {},
   "source": [
    "# **2. Puertas de múltiples qubits**\n",
    "\n",
    "En este apartado, exploraremos las **puertas cuánticas que operan en más de un qubit**, fundamentales para la creación de **correlaciones y entrelazamiento** en circuitos cuánticos.  \n",
    "\n",
    "📌 **Objetivos:**  \n",
    "✅ Comprender la **puerta CNOT** y su papel en el **entrelazamiento cuántico**.  \n",
    "✅ Analizar otras puertas cuánticas importantes: **CX, CY, CZ y SWAP**.  \n",
    "✅ Entender cómo estas puertas permiten el **control y la manipulación** de sistemas cuánticos de múltiples qubits.  \n",
    "\n",
    "---\n",
    "\n",
    "## **2.1 Introducción a las puertas de múltiples qubits**  \n",
    "\n",
    "En la computación cuántica, las **puertas de un solo qubit** (como X, Y, Z, H, S, T y U) permiten modificar el estado individual de cada qubit. Sin embargo, para lograr la **interacción entre qubits** y generar **correlaciones cuánticas**, es necesario emplear **puertas de múltiples qubits**.\n",
    "\n",
    "Una diferencia clave con la computación clásica es que **las puertas cuánticas pueden generar entrelazamiento** entre qubits, lo que permite la ejecución de cálculos cuánticos de manera exponencialmente más eficiente en ciertos algoritmos.  \n",
    "\n",
    "Entre las puertas más importantes se encuentran:  \n",
    "\n",
    "- **CNOT (Controlled-NOT)**: Base para la construcción de circuitos cuánticos complejos.  \n",
    "- **CX, CY, CZ**: Variaciones de CNOT en distintos ejes de rotación.  \n",
    "- **SWAP**: Intercambia dos qubits sin necesidad de medirlos.  \n",
    "\n",
    "---\n",
    "\n",
    "## **2.2 Puerta CNOT (Controlled-NOT)**  \n",
    "\n",
    "La **puerta CNOT** es una de las **operaciones cuánticas fundamentales**, ya que permite **controlar el estado de un qubit en función del estado de otro**. Es un elemento clave para **generar entrelazamiento** y es utilizada en la construcción de **compuertas lógicas cuánticas, algoritmos cuánticos y protocolos de comunicación cuántica**.\n",
    "\n",
    "### **Definición y matriz de la puerta CNOT**  \n",
    "La puerta **CNOT** actúa sobre **dos qubits**:  \n",
    "\n",
    "- **Qubit de control**: Determina si se aplica o no una operación al otro qubit.  \n",
    "- **Qubit objetivo**: Se le aplica la operación **X (NOT cuántico)** si el qubit de control está en **$|1\\rangle$**.  \n",
    "\n",
    "Su **matriz de transformación** es:\n",
    "\n",
    "$$\n",
    "CNOT =\n",
    "\\begin{bmatrix} \n",
    "1 & 0 & 0 & 0 \\\\ \n",
    "0 & 1 & 0 & 0 \\\\ \n",
    "0 & 0 & 0 & 1 \\\\ \n",
    "0 & 0 & 1 & 0 \n",
    "\\end{bmatrix}\n",
    "$$  \n",
    "\n",
    "Esta matriz indica que:  \n",
    "- Si el qubit de **control está en $|0\\rangle$**, el qubit objetivo **no cambia**.  \n",
    "- Si el qubit de **control está en $|1\\rangle$**, el qubit objetivo **se invierte** ($|0\\rangle \\leftrightarrow |1\\rangle$).  \n",
    "\n",
    "---\n",
    "\n",
    "### **Ejemplo: Aplicación de CNOT en estados base**  \n",
    "\n",
    "🔹 **Estado inicial: $|00\\rangle$**  \n",
    "$$\n",
    "CNOT |00\\rangle = |00\\rangle\n",
    "$$  \n",
    "(Si el primer qubit está en $|0\\rangle$, el segundo qubit no cambia).  \n",
    "\n",
    "🔹 **Estado inicial: $|01\\rangle$**  \n",
    "$$\n",
    "CNOT |01\\rangle = |01\\rangle\n",
    "$$  \n",
    "(El primer qubit sigue en $|0\\rangle$, por lo que el segundo qubit no cambia).  \n",
    "\n",
    "🔹 **Estado inicial: $|10\\rangle$**  \n",
    "$$\n",
    "CNOT |10\\rangle = |11\\rangle\n",
    "$$  \n",
    "(Ahora el primer qubit es $|1\\rangle$, por lo que el segundo qubit cambia de $|0\\rangle$ a $|1\\rangle$).  \n",
    "\n",
    "🔹 **Estado inicial: $|11\\rangle$**  \n",
    "$$\n",
    "CNOT |11\\rangle = |10\\rangle\n",
    "$$  \n",
    "(Aquí, el primer qubit sigue en $|1\\rangle$, por lo que el segundo qubit cambia de $|1\\rangle$ a $|0\\rangle$).  \n",
    "\n",
    "---\n",
    "\n",
    "### **2.3 CNOT y entrelazamiento cuántico**  \n",
    "\n",
    "Una aplicación crucial de la **puerta CNOT** es la generación de **estados entrelazados**. Por ejemplo, si aplicamos una **puerta Hadamard (H)** al primer qubit antes de aplicar **CNOT**, obtenemos el estado de Bell **$|\\Phi^+\\rangle$**:\n",
    "\n",
    "$$\n",
    "|\\Phi^+\\rangle = \\frac{1}{\\sqrt{2}}(|00\\rangle + |11\\rangle)\n",
    "$$  \n",
    "\n",
    "🔹 **Explicación del proceso:**  \n",
    "1. Iniciamos con **$|00\\rangle$**.  \n",
    "2. Aplicamos una **puerta Hadamard** al primer qubit, generando **superposición**:  \n",
    "\n",
    "   $$\n",
    "   H|0\\rangle = \\frac{1}{\\sqrt{2}}(|0\\rangle + |1\\rangle)\n",
    "   $$  \n",
    "\n",
    "   El estado total ahora es:  \n",
    "   $$\n",
    "   \\frac{1}{\\sqrt{2}}(|00\\rangle + |10\\rangle)\n",
    "   $$  \n",
    "\n",
    "3. Aplicamos **CNOT**, que **invierte el segundo qubit solo si el primero es $|1\\rangle$**.  \n",
    "\n",
    "   $$\n",
    "   CNOT \\left( \\frac{1}{\\sqrt{2}}(|00\\rangle + |10\\rangle) \\right) = \\frac{1}{\\sqrt{2}}(|00\\rangle + |11\\rangle)\n",
    "   $$  \n",
    "\n",
    "Este **estado de Bell** es **un estado entrelazado**, en el que si medimos el primer qubit y obtenemos **$|0\\rangle$**, automáticamente el segundo qubit estará en **$|0\\rangle$**. Si obtenemos **$|1\\rangle$**, el segundo qubit colapsa a **$|1\\rangle$**.\n",
    "\n",
    "---\n",
    "\n",
    "## **2.4 Otras puertas de múltiples qubits**  \n",
    "\n",
    "### **Puerta CX (Controlled-X)**  \n",
    "- Es otro nombre para la **puerta CNOT**.  \n",
    "- **Controla la aplicación de una NOT en otro qubit**.  \n",
    "\n",
    "**Matriz**:  \n",
    "$$\n",
    "CX =\n",
    "\\begin{bmatrix} \n",
    "1 & 0 & 0 & 0 \\\\ \n",
    "0 & 1 & 0 & 0 \\\\ \n",
    "0 & 0 & 0 & 1 \\\\ \n",
    "0 & 0 & 1 & 0 \n",
    "\\end{bmatrix}\n",
    "$$  \n",
    "\n",
    "---\n",
    "\n",
    "### **Puerta CY (Controlled-Y)**  \n",
    "- Similar a CNOT, pero aplica la **puerta Y** en lugar de la **puerta X**.  \n",
    "\n",
    "**Matriz**:  \n",
    "$$\n",
    "CY =\n",
    "\\begin{bmatrix} \n",
    "1 & 0 & 0 & 0 \\\\ \n",
    "0 & 1 & 0 & 0 \\\\ \n",
    "0 & 0 & 0 & -i \\\\ \n",
    "0 & 0 & i & 0 \n",
    "\\end{bmatrix}\n",
    "$$  \n",
    "\n",
    "🔹 **Efecto**:  \n",
    "- Si el **qubit de control es $|1\\rangle$**, se aplica **una rotación en el eje Y** sobre el qubit objetivo.  \n",
    "\n",
    "---\n",
    "\n",
    "### **Puerta CZ (Controlled-Z)**  \n",
    "- Similar a CNOT, pero aplica la **puerta Z** en lugar de la **puerta X**.  \n",
    "\n",
    "**Matriz**:  \n",
    "$$\n",
    "CZ =\n",
    "\\begin{bmatrix} \n",
    "1 & 0 & 0 & 0 \\\\ \n",
    "0 & 1 & 0 & 0 \\\\ \n",
    "0 & 0 & 1 & 0 \\\\ \n",
    "0 & 0 & 0 & -1 \n",
    "\\end{bmatrix}\n",
    "$$  \n",
    "\n",
    "🔹 **Efecto**:  \n",
    "- Si el **qubit de control es $|1\\rangle$**, se aplica **una inversión de fase** en el qubit objetivo.  \n",
    "\n",
    "---\n",
    "\n",
    "### **Puerta SWAP**  \n",
    "- Intercambia los estados de dos qubits.  \n",
    "- No altera la probabilidad de medición, solo **intercambia la información entre los qubits**.  \n",
    "\n",
    "**Matriz**:  \n",
    "$$\n",
    "SWAP =\n",
    "\\begin{bmatrix} \n",
    "1 & 0 & 0 & 0 \\\\ \n",
    "0 & 0 & 1 & 0 \\\\ \n",
    "0 & 1 & 0 & 0 \\\\ \n",
    "0 & 0 & 0 & 1 \n",
    "\\end{bmatrix}\n",
    "$$  \n",
    "\n",
    "---\n",
    "\n",
    "📌 **Siguiente paso:** Implementaremos estas puertas en **Qiskit** y exploraremos su efecto en simulaciones. 🚀"
   ]
  },
  {
   "cell_type": "code",
   "execution_count": 135,
   "id": "04ce5ecd-43e8-430d-b8e8-6a39f57e5a6f",
   "metadata": {},
   "outputs": [
    {
     "name": "stdout",
     "output_type": "stream",
     "text": [
      "\n",
      "➤ Circuito con CNOT\n"
     ]
    },
    {
     "data": {
      "image/png": "[encoded data removed]",
      "text/plain": [
       "<Figure size 287.294x200.667 with 1 Axes>"
      ]
     },
     "metadata": {},
     "output_type": "display_data"
    },
    {
     "name": "stdout",
     "output_type": "stream",
     "text": [
      "Resultados de medición para CNOT:\n"
     ]
    },
    {
     "data": {
      "image/png": "[encoded data removed]",
      "text/plain": [
       "<Figure size 640x480 with 1 Axes>"
      ]
     },
     "metadata": {},
     "output_type": "display_data"
    },
    {
     "name": "stdout",
     "output_type": "stream",
     "text": [
      "\n",
      "➤ Circuito con CX\n"
     ]
    },
    {
     "data": {
      "image/png": "[encoded data removed]",
      "text/plain": [
       "<Figure size 287.294x200.667 with 1 Axes>"
      ]
     },
     "metadata": {},
     "output_type": "display_data"
    },
    {
     "name": "stdout",
     "output_type": "stream",
     "text": [
      "Resultados de medición para CX:\n"
     ]
    },
    {
     "data": {
      "image/png": "[encoded data removed]",
      "text/plain": [
       "<Figure size 640x480 with 1 Axes>"
      ]
     },
     "metadata": {},
     "output_type": "display_data"
    },
    {
     "name": "stdout",
     "output_type": "stream",
     "text": [
      "\n",
      "➤ Circuito con CY\n"
     ]
    },
    {
     "data": {
      "image/png": "[encoded data removed]",
      "text/plain": [
       "<Figure size 287.294x200.667 with 1 Axes>"
      ]
     },
     "metadata": {},
     "output_type": "display_data"
    },
    {
     "name": "stdout",
     "output_type": "stream",
     "text": [
      "Resultados de medición para CY:\n"
     ]
    },
    {
     "data": {
      "image/png": "[encoded data removed]",
      "text/plain": [
       "<Figure size 640x480 with 1 Axes>"
      ]
     },
     "metadata": {},
     "output_type": "display_data"
    },
    {
     "name": "stdout",
     "output_type": "stream",
     "text": [
      "\n",
      "➤ Circuito con CZ\n"
     ]
    },
    {
     "data": {
      "image/png": "[encoded data removed]",
      "text/plain": [
       "<Figure size 287.294x200.667 with 1 Axes>"
      ]
     },
     "metadata": {},
     "output_type": "display_data"
    },
    {
     "name": "stdout",
     "output_type": "stream",
     "text": [
      "Resultados de medición para CZ:\n"
     ]
    },
    {
     "data": {
      "image/png": "[encoded data removed]",
      "text/plain": [
       "<Figure size 640x480 with 1 Axes>"
      ]
     },
     "metadata": {},
     "output_type": "display_data"
    },
    {
     "name": "stdout",
     "output_type": "stream",
     "text": [
      "\n",
      "➤ Circuito con SWAP\n"
     ]
    },
    {
     "data": {
      "image/png": "[encoded data removed]",
      "text/plain": [
       "<Figure size 287.294x200.667 with 1 Axes>"
      ]
     },
     "metadata": {},
     "output_type": "display_data"
    },
    {
     "name": "stdout",
     "output_type": "stream",
     "text": [
      "Resultados de medición para SWAP:\n"
     ]
    },
    {
     "data": {
      "image/png": "[encoded data removed]",
      "text/plain": [
       "<Figure size 640x480 with 1 Axes>"
      ]
     },
     "metadata": {},
     "output_type": "display_data"
    }
   ],
   "source": [
    "# -------------------------------\n",
    "# 🔹 1. Puerta CNOT (Controlled-NOT)\n",
    "# -------------------------------\n",
    "qc_cnot = QuantumCircuit(2)\n",
    "qc_cnot.h(0)  # Puerta Hadamard en el qubit de control para generar superposición\n",
    "qc_cnot.cx(0, 1)  # Puerta CNOT\n",
    "ejecutar_circuito(qc_cnot, \"CNOT\")\n",
    "\n",
    "\n",
    "# -------------------------------\n",
    "# 🔹 2. Puerta CX (Controlled-X)\n",
    "# -------------------------------\n",
    "qc_cx = QuantumCircuit(2)\n",
    "qc_cx.x(0)  # Inicializamos el primer qubit en |1⟩ para ver el efecto\n",
    "qc_cx.cx(0, 1)\n",
    "ejecutar_circuito(qc_cx, \"CX\")\n",
    "\n",
    "\n",
    "# -------------------------------\n",
    "# 🔹 3. Puerta CY (Controlled-Y)\n",
    "# -------------------------------\n",
    "qc_cy = QuantumCircuit(2)\n",
    "qc_cy.h(0)  # Generamos superposición en el qubit de control\n",
    "qc_cy.cy(0, 1)\n",
    "ejecutar_circuito(qc_cy, \"CY\")\n",
    "\n",
    "\n",
    "# -------------------------------\n",
    "# 🔹 4. Puerta CZ (Controlled-Z)\n",
    "# -------------------------------\n",
    "qc_cz = QuantumCircuit(2)\n",
    "qc_cz.h(0)  # Superposición en el qubit de control\n",
    "qc_cz.h(1)  # Superposición en el qubit objetivo para visualizar fase\n",
    "qc_cz.cz(0, 1)\n",
    "ejecutar_circuito(qc_cz, \"CZ\")\n",
    "\n",
    "\n",
    "# -------------------------------\n",
    "# 🔹 5. Puerta SWAP (Intercambio de Qubits)\n",
    "# -------------------------------\n",
    "qc_swap = QuantumCircuit(2)\n",
    "qc_swap.x(0)  # Inicializamos el primer qubit en |1⟩\n",
    "qc_swap.swap(0, 1)  # Intercambio de qubits\n",
    "ejecutar_circuito(qc_swap, \"SWAP\")"
   ]
  },
  {
   "cell_type": "markdown",
   "id": "6e26d824-2215-4bd0-a065-45cb1a4543c5",
   "metadata": {},
   "source": [
    "# **3. Creación y análisis de estados entrelazados**  \n",
    "\n",
    "En este apartado, exploraremos la generación, análisis y verificación de **estados cuánticos entrelazados**, que son fundamentales en la computación cuántica, criptografía cuántica y protocolos de comunicación segura.  \n",
    "\n",
    "---\n",
    "\n",
    "## **🔹 3.1 ¿Qué es el entrelazamiento cuántico?**  \n",
    "\n",
    "El **entrelazamiento cuántico** es un fenómeno en el que dos o más qubits comparten un estado cuántico de tal manera que **medir uno afecta instantáneamente al otro**, sin importar la distancia entre ellos.  \n",
    "\n",
    "En sistemas entrelazados, no podemos describir cada qubit de manera independiente: su estado depende completamente del otro qubit. **Esto es una propiedad puramente cuántica sin análogo en la computación clásica.**  \n",
    "\n",
    "### **📌 Propiedades clave del entrelazamiento:**\n",
    "1️⃣ **No localidad** → Dos qubits pueden estar correlacionados incluso si están separados a grandes distancias.  \n",
    "2️⃣ **No separabilidad** → Un estado entrelazado **no puede escribirse** como el producto tensorial de estados individuales.  \n",
    "3️⃣ **Correlaciones fuertes** → La medición de un qubit **determina automáticamente** el resultado del otro.  \n",
    "\n",
    "---\n",
    "\n",
    "## **🔹 3.2 Estados de Bell: Los estados entrelazados fundamentales**  \n",
    "\n",
    "Los estados de **Bell** son los estados de dos qubits **más fundamentales** y representan **el entrelazamiento máximo posible** entre dos qubits.  \n",
    "\n",
    "Se definen de la siguiente manera:\n",
    "\n",
    "$$\n",
    "|\\Phi^+\\rangle = \\frac{1}{\\sqrt{2}}(|00\\rangle + |11\\rangle)\n",
    "$$\n",
    "\n",
    "$$\n",
    "|\\Phi^-\\rangle = \\frac{1}{\\sqrt{2}}(|00\\rangle - |11\\rangle)\n",
    "$$\n",
    "\n",
    "$$\n",
    "|\\Psi^+\\rangle = \\frac{1}{\\sqrt{2}}(|01\\rangle + |10\\rangle)\n",
    "$$\n",
    "\n",
    "$$\n",
    "|\\Psi^-\\rangle = \\frac{1}{\\sqrt{2}}(|01\\rangle - |10\\rangle)\n",
    "$$\n",
    "\n",
    "Estos estados tienen **dos propiedades esenciales**:  \n",
    "\n",
    "1️⃣ **Superposición** → Un estado entrelazado no está en un solo estado definido hasta que se mide.  \n",
    "2️⃣ **Correlaciones cuánticas perfectas** → Si medimos un qubit en un estado de Bell, el otro colapsa instantáneamente a un estado correlacionado.  \n",
    "\n",
    "🔹 **Ejemplo**:  \n",
    "Si preparamos un sistema en **$|\\Phi^+\\rangle$**, la medición de **un qubit** en $|0\\rangle$ nos garantiza que el otro **también será $|0\\rangle$**. Si medimos **$|1\\rangle$**, el otro también será **$|1\\rangle$**.\n",
    "\n",
    "Este **comportamiento no puede explicarse con la física clásica** y fue uno de los aspectos que más desconcertó a Einstein, quien lo llamó **\"espeluznante acción a distancia\"**.\n",
    "\n",
    "---\n",
    "\n",
    "## **🔹 3.3 Implementación en Qiskit**  \n",
    "\n",
    "En Qiskit, los estados de Bell pueden generarse con una **puerta Hadamard ($H$)** seguida de una **puerta CNOT ($CX$)**.  \n",
    "\n",
    "### **📌 Explicación del circuito cuántico**\n",
    "1️⃣ **Aplicamos una puerta Hadamard ($H$) en el primer qubit**  \n",
    "   - Esto lo coloca en una **superposición** entre $|0\\rangle$ y $|1\\rangle$:  \n",
    "\n",
    "   $$\n",
    "   H|0\\rangle = \\frac{1}{\\sqrt{2}}(|0\\rangle + |1\\rangle)\n",
    "   $$\n",
    "\n",
    "2️⃣ **Aplicamos una puerta CNOT ($CX$)** con el primer qubit como **control** y el segundo como **objetivo**.  \n",
    "   - Si el primer qubit está en **$|0\\rangle$**, el segundo no cambia.  \n",
    "   - Si el primer qubit está en **$|1\\rangle$**, la puerta **CX** invierte el segundo qubit.  \n",
    "\n",
    "   Esto nos lleva al estado **$|\\Phi^+\\rangle$**:\n",
    "\n",
    "   $$\n",
    "   |\\Phi^+\\rangle = \\frac{1}{\\sqrt{2}}(|00\\rangle + |11\\rangle)\n",
    "   $$\n",
    "\n",
    "📌 **A continuación, implementaremos este circuito en Qiskit.** 🚀  \n",
    "\n",
    "---\n",
    "\n",
    "## **🔹 3.4 Código en Qiskit: Generación de estados de Bell**"
   ]
  },
  {
   "cell_type": "code",
   "execution_count": 139,
   "id": "b355fbf4-bcd4-482d-bdfd-16e0ece33e24",
   "metadata": {},
   "outputs": [],
   "source": [
    "# Importar librerías necesarias\n",
    "from qiskit.circuit import QuantumCircuit\n",
    "from qiskit_aer import Aer\n",
    "from qiskit import transpile\n",
    "from qiskit.visualization import plot_histogram, array_to_latex\n",
    "from qiskit.quantum_info import Statevector\n",
    "\n",
    "# Simulador cuántico\n",
    "simulator = Aer.get_backend('aer_simulator')\n",
    "\n",
    "# Función para ejecutar y visualizar los resultados\n",
    "def ejecutar_estado_bell(qc, nombre_estado):\n",
    "    \"\"\"\n",
    "    Función que transpila, ejecuta un circuito y muestra sus resultados.\n",
    "    También calcula el estado final antes de la medición.\n",
    "    \"\"\"\n",
    "    print(f\"\\n➤ Generando estado de Bell: {nombre_estado}\")\n",
    "    display(qc.draw('mpl'))  # Mostrar el diagrama del circuito\n",
    "\n",
    "    # Obtener el estado final antes de la medición\n",
    "    estado_final = Statevector(qc)\n",
    "    print(f\"\\nEstado final antes de la medición ({nombre_estado}):\")\n",
    "    display(array_to_latex(estado_final.data, prefix=\"|ψ⟩ = \"))\n",
    "\n",
    "    # Agregar medición a todos los qubits\n",
    "    qc.measure_all()\n",
    "\n",
    "    # Transpilar y ejecutar el circuito en el simulador\n",
    "    transpiled_qc = transpile(qc, simulator)\n",
    "    job = simulator.run(transpiled_qc, shots=1024)\n",
    "\n",
    "    # Obtener resultados y mostrar histograma\n",
    "    result = job.result()\n",
    "    counts = result.get_counts(qc)\n",
    "\n",
    "    print(f\"Resultados de medición para {nombre_estado}:\")\n",
    "    display(plot_histogram(counts))"
   ]
  },
  {
   "cell_type": "code",
   "execution_count": 141,
   "id": "89e32ede-30eb-4ad6-9676-4bcbb59e532d",
   "metadata": {},
   "outputs": [
    {
     "name": "stdout",
     "output_type": "stream",
     "text": [
      "\n",
      "➤ Generando estado de Bell: Φ+\n"
     ]
    },
    {
     "data": {
      "image/png": "[encoded data removed]",
      "text/plain": [
       "<Figure size 287.294x200.667 with 1 Axes>"
      ]
     },
     "metadata": {},
     "output_type": "display_data"
    },
    {
     "name": "stdout",
     "output_type": "stream",
     "text": [
      "\n",
      "Estado final antes de la medición (Φ+):\n"
     ]
    },
    {
     "data": {
      "text/latex": [
       "$$\n",
       "|ψ⟩ = \n",
       "\\begin{bmatrix}\n",
       "\\frac{\\sqrt{2}}{2} & 0 & 0 & \\frac{\\sqrt{2}}{2}  \\\\\n",
       " \\end{bmatrix}\n",
       "$$"
      ],
      "text/plain": [
       "<IPython.core.display.Latex object>"
      ]
     },
     "metadata": {},
     "output_type": "display_data"
    },
    {
     "name": "stdout",
     "output_type": "stream",
     "text": [
      "Resultados de medición para Φ+:\n"
     ]
    },
    {
     "data": {
      "image/png": "[encoded data removed]",
      "text/plain": [
       "<Figure size 640x480 with 1 Axes>"
      ]
     },
     "metadata": {},
     "output_type": "display_data"
    },
    {
     "name": "stdout",
     "output_type": "stream",
     "text": [
      "\n",
      "➤ Generando estado de Bell: Φ-\n"
     ]
    },
    {
     "data": {
      "image/png": "[encoded data removed]",
      "text/plain": [
       "<Figure size 370.906x200.667 with 1 Axes>"
      ]
     },
     "metadata": {},
     "output_type": "display_data"
    },
    {
     "name": "stdout",
     "output_type": "stream",
     "text": [
      "\n",
      "Estado final antes de la medición (Φ-):\n"
     ]
    },
    {
     "data": {
      "text/latex": [
       "$$\n",
       "|ψ⟩ = \n",
       "\\begin{bmatrix}\n",
       "\\frac{\\sqrt{2}}{2} & 0 & 0 & - \\frac{\\sqrt{2}}{2}  \\\\\n",
       " \\end{bmatrix}\n",
       "$$"
      ],
      "text/plain": [
       "<IPython.core.display.Latex object>"
      ]
     },
     "metadata": {},
     "output_type": "display_data"
    },
    {
     "name": "stdout",
     "output_type": "stream",
     "text": [
      "Resultados de medición para Φ-:\n"
     ]
    },
    {
     "data": {
      "image/png": "[encoded data removed]",
      "text/plain": [
       "<Figure size 640x480 with 1 Axes>"
      ]
     },
     "metadata": {},
     "output_type": "display_data"
    },
    {
     "name": "stdout",
     "output_type": "stream",
     "text": [
      "\n",
      "➤ Generando estado de Bell: Ψ+\n"
     ]
    },
    {
     "data": {
      "image/png": "[encoded data removed]",
      "text/plain": [
       "<Figure size 370.906x200.667 with 1 Axes>"
      ]
     },
     "metadata": {},
     "output_type": "display_data"
    },
    {
     "name": "stdout",
     "output_type": "stream",
     "text": [
      "\n",
      "Estado final antes de la medición (Ψ+):\n"
     ]
    },
    {
     "data": {
      "text/latex": [
       "$$\n",
       "|ψ⟩ = \n",
       "\\begin{bmatrix}\n",
       "0 & \\frac{\\sqrt{2}}{2} & \\frac{\\sqrt{2}}{2} & 0  \\\\\n",
       " \\end{bmatrix}\n",
       "$$"
      ],
      "text/plain": [
       "<IPython.core.display.Latex object>"
      ]
     },
     "metadata": {},
     "output_type": "display_data"
    },
    {
     "name": "stdout",
     "output_type": "stream",
     "text": [
      "Resultados de medición para Ψ+:\n"
     ]
    },
    {
     "data": {
      "image/png": "[encoded data removed]",
      "text/plain": [
       "<Figure size 640x480 with 1 Axes>"
      ]
     },
     "metadata": {},
     "output_type": "display_data"
    },
    {
     "name": "stdout",
     "output_type": "stream",
     "text": [
      "\n",
      "➤ Generando estado de Bell: Ψ-\n"
     ]
    },
    {
     "data": {
      "image/png": "[encoded data removed]",
      "text/plain": [
       "<Figure size 454.517x200.667 with 1 Axes>"
      ]
     },
     "metadata": {},
     "output_type": "display_data"
    },
    {
     "name": "stdout",
     "output_type": "stream",
     "text": [
      "\n",
      "Estado final antes de la medición (Ψ-):\n"
     ]
    },
    {
     "data": {
      "text/latex": [
       "$$\n",
       "|ψ⟩ = \n",
       "\\begin{bmatrix}\n",
       "0 & - \\frac{\\sqrt{2}}{2} & \\frac{\\sqrt{2}}{2} & 0  \\\\\n",
       " \\end{bmatrix}\n",
       "$$"
      ],
      "text/plain": [
       "<IPython.core.display.Latex object>"
      ]
     },
     "metadata": {},
     "output_type": "display_data"
    },
    {
     "name": "stdout",
     "output_type": "stream",
     "text": [
      "Resultados de medición para Ψ-:\n"
     ]
    },
    {
     "data": {
      "image/png": "[encoded data removed]",
      "text/plain": [
       "<Figure size 640x480 with 1 Axes>"
      ]
     },
     "metadata": {},
     "output_type": "display_data"
    }
   ],
   "source": [
    "# -------------------------------\n",
    "# 🔹 Estado de Bell |Φ+⟩ = (|00⟩ + |11⟩)/√2\n",
    "# -------------------------------\n",
    "qc_phi_plus = QuantumCircuit(2)\n",
    "qc_phi_plus.h(0)  # Superposición en el primer qubit\n",
    "qc_phi_plus.cx(0, 1)  # CNOT para generar correlación\n",
    "ejecutar_estado_bell(qc_phi_plus, \"Φ+\")\n",
    "\n",
    "\n",
    "# -------------------------------\n",
    "# 🔹 Estado de Bell |Φ-⟩ = (|00⟩ - |11⟩)/√2\n",
    "# -------------------------------\n",
    "qc_phi_minus = QuantumCircuit(2)\n",
    "qc_phi_minus.h(0)\n",
    "qc_phi_minus.cx(0, 1)\n",
    "qc_phi_minus.z(0)  # Aplicamos una puerta Z para agregar fase negativa\n",
    "ejecutar_estado_bell(qc_phi_minus, \"Φ-\")\n",
    "\n",
    "\n",
    "# -------------------------------\n",
    "# 🔹 Estado de Bell |Ψ+⟩ = (|01⟩ + |10⟩)/√2\n",
    "# -------------------------------\n",
    "qc_psi_plus = QuantumCircuit(2)\n",
    "qc_psi_plus.h(0)\n",
    "qc_psi_plus.cx(0, 1)\n",
    "qc_psi_plus.x(0)  # Aplicamos una puerta X para cambiar |00⟩ a |01⟩\n",
    "ejecutar_estado_bell(qc_psi_plus, \"Ψ+\")\n",
    "\n",
    "\n",
    "# -------------------------------\n",
    "# 🔹 Estado de Bell |Ψ-⟩ = (|01⟩ - |10⟩)/√2\n",
    "# -------------------------------\n",
    "qc_psi_minus = QuantumCircuit(2)\n",
    "qc_psi_minus.h(0)\n",
    "qc_psi_minus.cx(0, 1)\n",
    "qc_psi_minus.x(0)  # Cambio de |00⟩ a |01⟩\n",
    "qc_psi_minus.z(0)  # Introducimos una fase negativa\n",
    "ejecutar_estado_bell(qc_psi_minus, \"Ψ-\")"
   ]
  },
  {
   "cell_type": "markdown",
   "id": "ad822ff1-2f84-43ac-8f3e-6d8f09c941c4",
   "metadata": {},
   "source": [
    "\n",
    "✅ **Los estados de Bell son fundamentales en computación cuántica y criptografía**.  \n",
    "✅ **Qiskit permite crearlos fácilmente usando Hadamard y CNOT**.  \n",
    "✅ **Los resultados de medición muestran correlaciones perfectas, verificando el entrelazamiento**.  \n"
   ]
  },
  {
   "cell_type": "markdown",
   "id": "97ca0b23-1feb-4d87-9302-37232f0ad8e7",
   "metadata": {},
   "source": [
    "# **4. Concepto de fase en qubits y su aplicación en interferencia**  \n",
    "\n",
    "En esta sección, exploraremos **cómo las rotaciones de fase afectan a qubits entrelazados** y su impacto en la **interferencia cuántica y en la probabilidad de medición**.  \n",
    "\n",
    "📌 **Objetivos:**  \n",
    "✅ Entender **qué es la fase cuántica** y cómo influye en los cálculos cuánticos.  \n",
    "✅ Aplicar **rotaciones de fase** a qubits entrelazados.  \n",
    "✅ Analizar **cómo la fase cambia los resultados de medición** en circuitos de interferencia.  \n",
    "\n",
    "---\n",
    "\n",
    "## **🔹 4.1 ¿Qué es la fase en computación cuántica?**  \n",
    "\n",
    "En mecánica cuántica, un qubit no solo tiene un estado **de amplitud**, sino también una **fase relativa**. Esta fase no se puede medir directamente, pero **afecta cómo los qubits interfieren entre sí** en algoritmos cuánticos.  \n",
    "\n",
    "Matemáticamente, un qubit general puede expresarse como:\n",
    "\n",
    "$$\n",
    "|\\psi\\rangle = \\alpha |0\\rangle + e^{i\\theta} \\beta |1\\rangle\n",
    "$$\n",
    "\n",
    "donde **$e^{i\\theta}$** es un factor de fase que **modifica la probabilidad de interferencia** cuando los qubits interactúan.  \n",
    "\n",
    "---\n",
    "\n",
    "## **🔹 4.2 Rotaciones de fase en qubits entrelazados**  \n",
    "\n",
    "Las puertas de fase más importantes son:  \n",
    "\n",
    "🔹 **Puerta Z** ($Z$): Aplica una fase de **$π$** al estado $|1\\rangle$:  \n",
    "$$\n",
    "Z = \\begin{bmatrix} 1 & 0 \\\\ 0 & -1 \\end{bmatrix}\n",
    "$$\n",
    "\n",
    "🔹 **Puerta S** ($S$): Aplica una fase de **$π/2$** al estado $|1\\rangle$:  \n",
    "$$\n",
    "S = \\begin{bmatrix} 1 & 0 \\\\ 0 & i \\end{bmatrix}\n",
    "$$\n",
    "\n",
    "🔹 **Puerta T** ($T$): Aplica una fase de **$π/4$** al estado $|1\\rangle$:  \n",
    "$$\n",
    "T = \\begin{bmatrix} 1 & 0 \\\\ 0 & e^{i\\pi/4} \\end{bmatrix}\n",
    "$$\n",
    "\n",
    "**📌 Efecto en un estado de Bell**  \n",
    "Si aplicamos una **puerta Z** en un estado entrelazado como **$|\\Phi^+\\rangle$**, obtenemos:  \n",
    "\n",
    "$$\n",
    "Z_1 |\\Phi^+\\rangle = \\frac{1}{\\sqrt{2}}(|00\\rangle - |11\\rangle) = |\\Phi^-\\rangle\n",
    "$$\n",
    "\n",
    "Es decir, **modificamos la fase relativa sin afectar las probabilidades de medición**.  \n",
    "\n",
    "---\n",
    "\n",
    "## **🔹 4.3 Implementación en Qiskit**  \n",
    "\n",
    "Vamos a aplicar **rotaciones de fase en un estado de Bell** y observar **cómo cambia la interferencia**.\n",
    "\n",
    "### **📌 Código en Qiskit**"
   ]
  },
  {
   "cell_type": "code",
   "execution_count": 167,
   "id": "61b9b99d-d21a-4b73-976a-7e931d77e9d9",
   "metadata": {},
   "outputs": [
    {
     "name": "stdout",
     "output_type": "stream",
     "text": [
      "\n",
      "➤ Circuito con Puerta Z sobre |Φ+⟩\n"
     ]
    },
    {
     "data": {
      "image/png": "[encoded data removed]",
      "text/plain": [
       "<Figure size 370.906x200.667 with 1 Axes>"
      ]
     },
     "metadata": {},
     "output_type": "display_data"
    },
    {
     "name": "stdout",
     "output_type": "stream",
     "text": [
      "\n",
      "Estado final antes de la medición (Puerta Z sobre |Φ+⟩):\n"
     ]
    },
    {
     "data": {
      "text/latex": [
       "$$\n",
       "|ψ⟩ = \n",
       "\\begin{bmatrix}\n",
       "\\frac{\\sqrt{2}}{2} & 0 & 0 & - \\frac{\\sqrt{2}}{2}  \\\\\n",
       " \\end{bmatrix}\n",
       "$$"
      ],
      "text/plain": [
       "<IPython.core.display.Latex object>"
      ]
     },
     "metadata": {},
     "output_type": "display_data"
    },
    {
     "name": "stdout",
     "output_type": "stream",
     "text": [
      "Resultados de medición para Puerta Z sobre |Φ+⟩:\n"
     ]
    },
    {
     "data": {
      "image/png": "[encoded data removed]",
      "text/plain": [
       "<Figure size 640x480 with 1 Axes>"
      ]
     },
     "metadata": {},
     "output_type": "display_data"
    },
    {
     "name": "stdout",
     "output_type": "stream",
     "text": [
      "\n",
      "➤ Circuito con Puerta S sobre |Φ+⟩\n"
     ]
    },
    {
     "data": {
      "image/png": "[encoded data removed]",
      "text/plain": [
       "<Figure size 370.906x200.667 with 1 Axes>"
      ]
     },
     "metadata": {},
     "output_type": "display_data"
    },
    {
     "name": "stdout",
     "output_type": "stream",
     "text": [
      "\n",
      "Estado final antes de la medición (Puerta S sobre |Φ+⟩):\n"
     ]
    },
    {
     "data": {
      "text/latex": [
       "$$\n",
       "|ψ⟩ = \n",
       "\\begin{bmatrix}\n",
       "\\frac{\\sqrt{2}}{2} & 0 & 0 & \\frac{\\sqrt{2} i}{2}  \\\\\n",
       " \\end{bmatrix}\n",
       "$$"
      ],
      "text/plain": [
       "<IPython.core.display.Latex object>"
      ]
     },
     "metadata": {},
     "output_type": "display_data"
    },
    {
     "name": "stdout",
     "output_type": "stream",
     "text": [
      "Resultados de medición para Puerta S sobre |Φ+⟩:\n"
     ]
    },
    {
     "data": {
      "image/png": "[encoded data removed]",
      "text/plain": [
       "<Figure size 640x480 with 1 Axes>"
      ]
     },
     "metadata": {},
     "output_type": "display_data"
    },
    {
     "name": "stdout",
     "output_type": "stream",
     "text": [
      "\n",
      "➤ Circuito con Puerta T sobre |Φ+⟩\n"
     ]
    },
    {
     "data": {
      "image/png": "[encoded data removed]",
      "text/plain": [
       "<Figure size 370.906x200.667 with 1 Axes>"
      ]
     },
     "metadata": {},
     "output_type": "display_data"
    },
    {
     "name": "stdout",
     "output_type": "stream",
     "text": [
      "\n",
      "Estado final antes de la medición (Puerta T sobre |Φ+⟩):\n"
     ]
    },
    {
     "data": {
      "text/latex": [
       "$$\n",
       "|ψ⟩ = \n",
       "\\begin{bmatrix}\n",
       "\\frac{\\sqrt{2}}{2} & 0 & 0 & \\frac{1}{2} + \\frac{i}{2}  \\\\\n",
       " \\end{bmatrix}\n",
       "$$"
      ],
      "text/plain": [
       "<IPython.core.display.Latex object>"
      ]
     },
     "metadata": {},
     "output_type": "display_data"
    },
    {
     "name": "stdout",
     "output_type": "stream",
     "text": [
      "Resultados de medición para Puerta T sobre |Φ+⟩:\n"
     ]
    },
    {
     "data": {
      "image/png": "[encoded data removed]",
      "text/plain": [
       "<Figure size 640x480 with 1 Axes>"
      ]
     },
     "metadata": {},
     "output_type": "display_data"
    }
   ],
   "source": [
    "# Importar librerías necesarias\n",
    "from qiskit.circuit import QuantumCircuit\n",
    "from qiskit_aer import Aer\n",
    "from qiskit import transpile\n",
    "from qiskit.visualization import plot_histogram, array_to_latex\n",
    "from qiskit.quantum_info import Statevector\n",
    "\n",
    "# Simulador cuántico\n",
    "simulator = Aer.get_backend('aer_simulator')\n",
    "\n",
    "# Función para ejecutar y visualizar los efectos de las rotaciones de fase\n",
    "def ejecutar_circuito_fase(qc, nombre_puerta):\n",
    "    \"\"\"\n",
    "    Función que transpila, ejecuta un circuito y muestra sus resultados.\n",
    "    También calcula el estado final antes de la medición.\n",
    "    \"\"\"\n",
    "    print(f\"\\n➤ Circuito con {nombre_puerta}\")\n",
    "    display(qc.draw('mpl'))  # Mostrar el diagrama del circuito\n",
    "\n",
    "    # Obtener el estado final antes de la medición\n",
    "    estado_final = Statevector(qc)\n",
    "    print(f\"\\nEstado final antes de la medición ({nombre_puerta}):\")\n",
    "    display(array_to_latex(estado_final.data, prefix=\"|ψ⟩ = \"))\n",
    "\n",
    "    # Agregar medición a todos los qubits\n",
    "    qc.measure_all()\n",
    "\n",
    "    # Transpilar y ejecutar el circuito en el simulador\n",
    "    transpiled_qc = transpile(qc, simulator)\n",
    "    job = simulator.run(transpiled_qc, shots=1024)\n",
    "\n",
    "    # Obtener resultados y mostrar histograma\n",
    "    result = job.result()\n",
    "    counts = result.get_counts(qc)\n",
    "\n",
    "    print(f\"Resultados de medición para {nombre_puerta}:\")\n",
    "    display(plot_histogram(counts))\n",
    "\n",
    "\n",
    "# -------------------------------\n",
    "# 🔹 Aplicar puerta Z a un estado de Bell |Φ+⟩\n",
    "# -------------------------------\n",
    "qc_fase_z = QuantumCircuit(2)\n",
    "qc_fase_z.h(0)\n",
    "qc_fase_z.cx(0, 1)\n",
    "qc_fase_z.z(0)  # Aplicamos una fase de π en el primer qubit\n",
    "ejecutar_circuito_fase(qc_fase_z, \"Puerta Z sobre |Φ+⟩\")\n",
    "\n",
    "\n",
    "# -------------------------------\n",
    "# 🔹 Aplicar puerta S a un estado de Bell |Φ+⟩\n",
    "# -------------------------------\n",
    "qc_fase_s = QuantumCircuit(2)\n",
    "qc_fase_s.h(0)\n",
    "qc_fase_s.cx(0, 1)\n",
    "qc_fase_s.s(0)  # Aplicamos una fase de π/2 en el primer qubit\n",
    "ejecutar_circuito_fase(qc_fase_s, \"Puerta S sobre |Φ+⟩\")\n",
    "\n",
    "\n",
    "# -------------------------------\n",
    "# 🔹 Aplicar puerta T a un estado de Bell |Φ+⟩\n",
    "# -------------------------------\n",
    "qc_fase_t = QuantumCircuit(2)\n",
    "qc_fase_t.h(0)\n",
    "qc_fase_t.cx(0, 1)\n",
    "qc_fase_t.t(0)  # Aplicamos una fase de π/4 en el primer qubit\n",
    "ejecutar_circuito_fase(qc_fase_t, \"Puerta T sobre |Φ+⟩\")"
   ]
  },
  {
   "cell_type": "markdown",
   "id": "88baf0a0-74e7-4d95-918b-ff85a537df08",
   "metadata": {},
   "source": [
    "## **🔹 4.4 Cómo la fase influye en la interferencia cuántica**  \n",
    "\n",
    "Cuando combinamos qubits en **superposición**, sus fases afectan **cómo interfieren al recombinarse** en circuitos cuánticos.  \n",
    "\n",
    "Por ejemplo, en un **experimento de interferencia cuántica**, podemos:  \n",
    "\n",
    "1️⃣ **Crear un estado de Bell $|\\Phi^+\\rangle$** con una **puerta Hadamard y CNOT**.  \n",
    "2️⃣ **Aplicar una rotación de fase (Z, S o T)** en uno de los qubits.  \n",
    "3️⃣ **Volver a aplicar una puerta Hadamard** y medir.  \n",
    "\n",
    "Si la fase se **cancela**, el qubit vuelve a su estado original. Si no, **interfiere destructivamente**, alterando las probabilidades de medición.\n",
    "\n",
    "---\n",
    "\n",
    "### **📌 Código en Qiskit: Interferencia con rotaciones de fase**"
   ]
  },
  {
   "cell_type": "code",
   "execution_count": 180,
   "id": "11b51e95-335b-4b14-9ac6-32880f1e8305",
   "metadata": {},
   "outputs": [
    {
     "name": "stdout",
     "output_type": "stream",
     "text": [
      "\n",
      "➤ Circuito con Interferencia con fase S\n"
     ]
    },
    {
     "data": {
      "image/png": "[encoded data removed]",
      "text/plain": [
       "<Figure size 454.517x200.667 with 1 Axes>"
      ]
     },
     "metadata": {},
     "output_type": "display_data"
    },
    {
     "name": "stdout",
     "output_type": "stream",
     "text": [
      "\n",
      "Estado final antes de la medición (Interferencia con fase S):\n"
     ]
    },
    {
     "data": {
      "text/latex": [
       "$$\n",
       "|ψ⟩ = \n",
       "\\begin{bmatrix}\n",
       "\\frac{1}{2} & \\frac{1}{2} & \\frac{i}{2} & - \\frac{i}{2}  \\\\\n",
       " \\end{bmatrix}\n",
       "$$"
      ],
      "text/plain": [
       "<IPython.core.display.Latex object>"
      ]
     },
     "metadata": {},
     "output_type": "display_data"
    },
    {
     "name": "stdout",
     "output_type": "stream",
     "text": [
      "Resultados de medición para Interferencia con fase S:\n"
     ]
    },
    {
     "data": {
      "image/png": "[encoded data removed]",
      "text/plain": [
       "<Figure size 640x480 with 1 Axes>"
      ]
     },
     "metadata": {},
     "output_type": "display_data"
    }
   ],
   "source": [
    "# -------------------------------\n",
    "# 🔹 Interferencia cuántica con rotaciones de fase\n",
    "# -------------------------------\n",
    "qc_interferencia = QuantumCircuit(2)\n",
    "qc_interferencia.h(0)  # Hadamard en el primer qubit\n",
    "qc_interferencia.cx(0, 1)  # CNOT para generar entrelazamiento\n",
    "qc_interferencia.s(0)  # Aplicamos una puerta S (fase π/2) en el primer qubit\n",
    "qc_interferencia.h(0)  # Aplicamos Hadamard nuevamente para ver la interferencia\n",
    "ejecutar_circuito_fase(qc_interferencia, \"Interferencia con fase S\")"
   ]
  },
  {
   "cell_type": "markdown",
   "id": "203ec8b0-d2cb-4bc0-958a-0abc52c3bccc",
   "metadata": {},
   "source": [
    "\n",
    "## **📌 Conclusión**\n",
    "✅ **Las rotaciones de fase afectan cómo los qubits entrelazados interactúan en la interferencia**.  \n",
    "✅ **Las puertas Z, S y T no cambian la probabilidad de medición, pero alteran la fase cuántica**.  \n",
    "✅ **En circuitos con interferencia cuántica, la fase puede reforzar o cancelar estados**.  \n",
    "✅ **Esto es crucial en algoritmos cuánticos como Fourier Cuántico y Corrección de Errores**.  \n"
   ]
  },
  {
   "cell_type": "markdown",
   "id": "0d1559e0-625e-41ca-a984-bbf50912c048",
   "metadata": {},
   "source": [
    "# **🔹 Cierre del Laboratorio 3: Puertas de múltiples qubits y entrelazamiento**  \n",
    "\n",
    "En este laboratorio, hemos explorado cómo los **qubits múltiples pueden interactuar y generar correlaciones cuánticas** a través de **puertas de múltiples qubits y entrelazamiento**.  \n",
    "\n",
    "### **📌 Resumen de lo aprendido**  \n",
    "✅ **Estados de múltiples qubits**: Construcción de sistemas de más de un qubit usando el **producto tensorial**.  \n",
    "✅ **Puertas de múltiples qubits**: Implementación de **CNOT, CX, CY, CZ y SWAP** para manipular qubits en pareja.  \n",
    "✅ **Generación de estados entrelazados**: Creación de los **estados de Bell**, fundamentales en computación cuántica.  \n",
    "✅ **Medición y verificación del entrelazamiento**: Cómo verificar la correlación cuántica usando mediciones y la **traza parcial**.  \n",
    "✅ **Concepto de fase y su impacto en la interferencia**: Exploración de cómo las **rotaciones de fase** afectan los resultados de interferencia cuántica.  \n",
    "\n",
    "### **🌟 Conclusión**  \n",
    "Este laboratorio ha demostrado **la diferencia clave entre la computación clásica y la cuántica**: **los qubits pueden estar correlacionados de manera no clásica**. Esto es esencial para muchos algoritmos cuánticos avanzados y aplicaciones como la **teleportación cuántica** y la **corrección de errores cuánticos**.\n",
    "\n",
    "📌 **Siguiente paso:** Ahora que entendemos cómo funcionan los **qubits múltiples**, es momento de **construir circuitos cuánticos más complejos** y explorar los **primeros algoritmos cuánticos**. 🚀  \n",
    "\n",
    "---\n",
    "\n",
    "# **🔹 Próximo Laboratorio 4: Circuitos cuánticos y teleportación**  \n",
    "\n",
    "En este laboratorio, aplicaremos lo aprendido para **diseñar y ejecutar circuitos cuánticos más avanzados** en **simuladores y hardware real de IBM Quantum**.  \n",
    "\n",
    "### **📌 ¿Qué aprenderemos?**  \n",
    "\n",
    "## **1️⃣ Introducción a circuitos cuánticos avanzados**  \n",
    "- **Cómo componer circuitos cuánticos complejos en Qiskit**.  \n",
    "- **Ejecución de circuitos en hardware cuántico real y en simuladores**.  \n",
    "\n",
    "## **2️⃣ Implementación de la teleportación cuántica**  \n",
    "- **Explicación teórica del protocolo de teleportación cuántica**.  \n",
    "- **Construcción del circuito en Qiskit y análisis de resultados**.  \n",
    "\n",
    "## **3️⃣ Introducción a los algoritmos cuánticos**  \n",
    "- **Conceptos clave: Superposición, interferencia y entrelazamiento en algoritmos**.  \n",
    "- **Primeros ejemplos prácticos de algoritmos cuánticos** como **Deutsch-Jozsa y Grover**.  \n",
    "\n",
    "### **📌 ¿Por qué es importante este laboratorio?**  \n",
    "💡 **La teleportación cuántica es una de las aplicaciones más fascinantes de la computación cuántica** y demuestra cómo **los qubits pueden transmitir información sin necesidad de intercambio físico**.  \n",
    "💡 **Los primeros algoritmos cuánticos nos permiten ver cómo la computación cuántica puede superar a la computación clásica en ciertos problemas**.  \n",
    "\n",
    "📌 **¡Prepárate para llevar tus conocimientos cuánticos al siguiente nivel!** 🚀"
   ]
  },
  {
   "cell_type": "code",
   "execution_count": null,
   "id": "9b89497f-3c73-43b7-add7-b10a70da0176",
   "metadata": {},
   "outputs": [],
   "source": []
  }
 ],
 "metadata": {
  "kernelspec": {
   "display_name": "Python 3",
   "language": "python",
   "name": "python3"
  },
  "language_info": {
   "codemirror_mode": {
    "name": "ipython",
    "version": 3
   },
   "file_extension": ".py",
   "mimetype": "text/x-python",
   "name": "python",
   "nbconvert_exporter": "python",
   "pygments_lexer": "ipython3",
   "version": "3.8.8"
  }
 },
 "nbformat": 4,
 "nbformat_minor": 5
}
